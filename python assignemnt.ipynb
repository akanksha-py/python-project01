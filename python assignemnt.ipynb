{
 "cells": [
  {
   "cell_type": "code",
   "execution_count": null,
   "id": "91f90199-c2f3-4fe9-ac2f-850cc9928b1e",
   "metadata": {},
   "outputs": [],
   "source": [
    "age = float(input(\"Age : \"))\n",
    "unit = input(\"Please choose time unit: Months, Weeks, Days, Hours, Minutes, Seconds.\")\n",
    "months = age*12\n",
    "weeks = age*52\n",
    "days = age*365\n",
    "hours = age*365*24\n",
    "mins = age*365*24*60\n",
    "secs = age*365*24*3600\n",
    "\n",
    "    #return months, weeks, days, hours, mins, secs\n",
    "#def main():\n",
    "\n",
    "\n",
    "if unit == 'Months':\n",
    "    print(f\"Your age is {months} Months\")\n",
    "\n",
    "elif unit == 'Weeks':\n",
    "    print(f\"Your age is {weeks} Weeks\")\n",
    "\n",
    "elif unit == 'Days':\n",
    "    print(f\"Your age is {days} Days\")\n",
    "\n",
    "elif unit == 'Hours':\n",
    "    print(f\"Your age is {hours} Hours\")\n",
    "\n",
    "elif unit == 'Minutes':\n",
    "    print(f\"Your age is {mins} Minutes\")\n",
    "    \n",
    "elif unit == 'Seconds':\n",
    "    print(f\"Your age is {secs} Seconds\")\n",
    "\n",
    "else:\n",
    "    print(\"enter data\")"
   ]
  },
  {
   "cell_type": "code",
   "execution_count": null,
   "id": "36cf3250-faa8-40c0-8953-f98c5dee4f7f",
   "metadata": {},
   "outputs": [],
   "source": []
  }
 ],
 "metadata": {
  "kernelspec": {
   "display_name": "Python 3 (ipykernel)",
   "language": "python",
   "name": "python3"
  },
  "language_info": {
   "codemirror_mode": {
    "name": "ipython",
    "version": 3
   },
   "file_extension": ".py",
   "mimetype": "text/x-python",
   "name": "python",
   "nbconvert_exporter": "python",
   "pygments_lexer": "ipython3",
   "version": "3.11.7"
  }
 },
 "nbformat": 4,
 "nbformat_minor": 5
}
